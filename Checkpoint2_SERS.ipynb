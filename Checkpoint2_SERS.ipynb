{
  "nbformat": 4,
  "nbformat_minor": 0,
  "metadata": {
    "colab": {
      "provenance": [],
      "include_colab_link": true
    },
    "kernelspec": {
      "name": "python3",
      "display_name": "Python 3"
    },
    "language_info": {
      "name": "python"
    }
  },
  "cells": [
    {
      "cell_type": "markdown",
      "metadata": {
        "id": "view-in-github",
        "colab_type": "text"
      },
      "source": [
        "<a href=\"https://colab.research.google.com/github/gabrwell/analise_de_dados/blob/main/Checkpoint2_SERS.ipynb\" target=\"_parent\"><img src=\"https://colab.research.google.com/assets/colab-badge.svg\" alt=\"Open In Colab\"/></a>"
      ]
    },
    {
      "cell_type": "markdown",
      "source": [
        "# **Appliance Energy Prediction**"
      ],
      "metadata": {
        "id": "fy7ieX2zR84F"
      }
    },
    {
      "cell_type": "code",
      "source": [
        "#Importando Bibliotecas\n",
        "import pandas as pd\n",
        "from sklearn.model_selection import train_test_split\n",
        "from sklearn.linear_model import LinearRegression\n",
        "from sklearn.ensemble import RandomForestRegressor\n",
        "from sklearn.tree import DecisionTreeRegressor\n",
        "from sklearn.metrics import r2_score, mean_squared_error, mean_absolute_error\n",
        "import numpy as np"
      ],
      "metadata": {
        "id": "YrEkkiELV6v9"
      },
      "execution_count": 17,
      "outputs": []
    },
    {
      "cell_type": "code",
      "metadata": {
        "colab": {
          "base_uri": "https://localhost:8080/"
        },
        "id": "36a464bc",
        "outputId": "f985674e-4f54-4f34-99a7-31a932c634dd"
      },
      "source": [
        "# colocando o dataset e pritando as informações dele\n",
        "df = pd.read_csv('/content/energydata_complete.csv', on_bad_lines='skip')\n",
        "\n",
        "print(df.head())\n",
        "print(df.info())\n",
        "print(df.describe())"
      ],
      "execution_count": 18,
      "outputs": [
        {
          "output_type": "stream",
          "name": "stdout",
          "text": [
            "                  date  Appliances  lights     T1       RH_1    T2       RH_2  \\\n",
            "0  2016-01-11 17:00:00          60      30  19.89  47.596667  19.2  44.790000   \n",
            "1  2016-01-11 17:10:00          60      30  19.89  46.693333  19.2  44.722500   \n",
            "2  2016-01-11 17:20:00          50      30  19.89  46.300000  19.2  44.626667   \n",
            "3  2016-01-11 17:30:00          50      40  19.89  46.066667  19.2  44.590000   \n",
            "4  2016-01-11 17:40:00          60      40  19.89  46.333333  19.2  44.530000   \n",
            "\n",
            "      T3       RH_3         T4  ...         T9   RH_9     T_out  Press_mm_hg  \\\n",
            "0  19.79  44.730000  19.000000  ...  17.033333  45.53  6.600000        733.5   \n",
            "1  19.79  44.790000  19.000000  ...  17.066667  45.56  6.483333        733.6   \n",
            "2  19.79  44.933333  18.926667  ...  17.000000  45.50  6.366667        733.7   \n",
            "3  19.79  45.000000  18.890000  ...  17.000000  45.40  6.250000        733.8   \n",
            "4  19.79  45.000000  18.890000  ...  17.000000  45.40  6.133333        733.9   \n",
            "\n",
            "   RH_out  Windspeed  Visibility  Tdewpoint        rv1        rv2  \n",
            "0    92.0   7.000000   63.000000        5.3  13.275433  13.275433  \n",
            "1    92.0   6.666667   59.166667        5.2  18.606195  18.606195  \n",
            "2    92.0   6.333333   55.333333        5.1  28.642668  28.642668  \n",
            "3    92.0   6.000000   51.500000        5.0  45.410389  45.410389  \n",
            "4    92.0   5.666667   47.666667        4.9  10.084097  10.084097  \n",
            "\n",
            "[5 rows x 29 columns]\n",
            "<class 'pandas.core.frame.DataFrame'>\n",
            "RangeIndex: 19735 entries, 0 to 19734\n",
            "Data columns (total 29 columns):\n",
            " #   Column       Non-Null Count  Dtype  \n",
            "---  ------       --------------  -----  \n",
            " 0   date         19735 non-null  object \n",
            " 1   Appliances   19735 non-null  int64  \n",
            " 2   lights       19735 non-null  int64  \n",
            " 3   T1           19735 non-null  float64\n",
            " 4   RH_1         19735 non-null  float64\n",
            " 5   T2           19735 non-null  float64\n",
            " 6   RH_2         19735 non-null  float64\n",
            " 7   T3           19735 non-null  float64\n",
            " 8   RH_3         19735 non-null  float64\n",
            " 9   T4           19735 non-null  float64\n",
            " 10  RH_4         19735 non-null  float64\n",
            " 11  T5           19735 non-null  float64\n",
            " 12  RH_5         19735 non-null  float64\n",
            " 13  T6           19735 non-null  float64\n",
            " 14  RH_6         19735 non-null  float64\n",
            " 15  T7           19735 non-null  float64\n",
            " 16  RH_7         19735 non-null  float64\n",
            " 17  T8           19735 non-null  float64\n",
            " 18  RH_8         19735 non-null  float64\n",
            " 19  T9           19735 non-null  float64\n",
            " 20  RH_9         19735 non-null  float64\n",
            " 21  T_out        19735 non-null  float64\n",
            " 22  Press_mm_hg  19735 non-null  float64\n",
            " 23  RH_out       19735 non-null  float64\n",
            " 24  Windspeed    19735 non-null  float64\n",
            " 25  Visibility   19735 non-null  float64\n",
            " 26  Tdewpoint    19735 non-null  float64\n",
            " 27  rv1          19735 non-null  float64\n",
            " 28  rv2          19735 non-null  float64\n",
            "dtypes: float64(26), int64(2), object(1)\n",
            "memory usage: 4.4+ MB\n",
            "None\n",
            "         Appliances        lights            T1          RH_1            T2  \\\n",
            "count  19735.000000  19735.000000  19735.000000  19735.000000  19735.000000   \n",
            "mean      97.694958      3.801875     21.686571     40.259739     20.341219   \n",
            "std      102.524891      7.935988      1.606066      3.979299      2.192974   \n",
            "min       10.000000      0.000000     16.790000     27.023333     16.100000   \n",
            "25%       50.000000      0.000000     20.760000     37.333333     18.790000   \n",
            "50%       60.000000      0.000000     21.600000     39.656667     20.000000   \n",
            "75%      100.000000      0.000000     22.600000     43.066667     21.500000   \n",
            "max     1080.000000     70.000000     26.260000     63.360000     29.856667   \n",
            "\n",
            "               RH_2            T3          RH_3            T4          RH_4  \\\n",
            "count  19735.000000  19735.000000  19735.000000  19735.000000  19735.000000   \n",
            "mean      40.420420     22.267611     39.242500     20.855335     39.026904   \n",
            "std        4.069813      2.006111      3.254576      2.042884      4.341321   \n",
            "min       20.463333     17.200000     28.766667     15.100000     27.660000   \n",
            "25%       37.900000     20.790000     36.900000     19.530000     35.530000   \n",
            "50%       40.500000     22.100000     38.530000     20.666667     38.400000   \n",
            "75%       43.260000     23.290000     41.760000     22.100000     42.156667   \n",
            "max       56.026667     29.236000     50.163333     26.200000     51.090000   \n",
            "\n",
            "       ...            T9          RH_9         T_out   Press_mm_hg  \\\n",
            "count  ...  19735.000000  19735.000000  19735.000000  19735.000000   \n",
            "mean   ...     19.485828     41.552401      7.411665    755.522602   \n",
            "std    ...      2.014712      4.151497      5.317409      7.399441   \n",
            "min    ...     14.890000     29.166667     -5.000000    729.300000   \n",
            "25%    ...     18.000000     38.500000      3.666667    750.933333   \n",
            "50%    ...     19.390000     40.900000      6.916667    756.100000   \n",
            "75%    ...     20.600000     44.338095     10.408333    760.933333   \n",
            "max    ...     24.500000     53.326667     26.100000    772.300000   \n",
            "\n",
            "             RH_out     Windspeed    Visibility     Tdewpoint           rv1  \\\n",
            "count  19735.000000  19735.000000  19735.000000  19735.000000  19735.000000   \n",
            "mean      79.750418      4.039752     38.330834      3.760707     24.988033   \n",
            "std       14.901088      2.451221     11.794719      4.194648     14.496634   \n",
            "min       24.000000      0.000000      1.000000     -6.600000      0.005322   \n",
            "25%       70.333333      2.000000     29.000000      0.900000     12.497889   \n",
            "50%       83.666667      3.666667     40.000000      3.433333     24.897653   \n",
            "75%       91.666667      5.500000     40.000000      6.566667     37.583769   \n",
            "max      100.000000     14.000000     66.000000     15.500000     49.996530   \n",
            "\n",
            "                rv2  \n",
            "count  19735.000000  \n",
            "mean      24.988033  \n",
            "std       14.496634  \n",
            "min        0.005322  \n",
            "25%       12.497889  \n",
            "50%       24.897653  \n",
            "75%       37.583769  \n",
            "max       49.996530  \n",
            "\n",
            "[8 rows x 28 columns]\n"
          ]
        }
      ]
    },
    {
      "cell_type": "code",
      "source": [
        "X = df.drop(['date', 'Appliances'], axis=1)\n",
        "y = df['Appliances']"
      ],
      "metadata": {
        "id": "TEpIb4-CWlE3"
      },
      "execution_count": 19,
      "outputs": []
    },
    {
      "cell_type": "code",
      "source": [
        "X_train, X_test, y_train, y_test = train_test_split(X, y, test_size=0.2, random_state=42)"
      ],
      "metadata": {
        "id": "zHdADINsWnfJ"
      },
      "execution_count": 20,
      "outputs": []
    },
    {
      "cell_type": "code",
      "source": [
        "# Regressão Linear\n",
        "lr = LinearRegression()\n",
        "lr.fit(X_train, y_train)\n",
        "y_pred_lr = lr.predict(X_test)"
      ],
      "metadata": {
        "id": "_zTKXuoWWsCJ"
      },
      "execution_count": 21,
      "outputs": []
    },
    {
      "cell_type": "code",
      "source": [
        "#Árvore de Regressão (Decision Tree)\n",
        "dt = DecisionTreeRegressor(random_state=42)\n",
        "dt.fit(X_train, y_train)\n",
        "y_pred_dt = dt.predict(X_test)"
      ],
      "metadata": {
        "id": "O2seSoZZWxyI"
      },
      "execution_count": 22,
      "outputs": []
    },
    {
      "cell_type": "code",
      "source": [
        "#Random Forest\n",
        "rf = RandomForestRegressor(random_state=42)\n",
        "rf.fit(X_train, y_train)\n",
        "y_pred_rf = rf.predict(X_test)"
      ],
      "metadata": {
        "id": "s7jba-lUW3e5"
      },
      "execution_count": 23,
      "outputs": []
    },
    {
      "cell_type": "code",
      "source": [
        "# Avaliação dos modelos usando R², RMSE e MAE\n",
        "def print_metrics(y_true, y_pred, model_name):\n",
        "    r2 = r2_score(y_true, y_pred)\n",
        "    rmse = np.sqrt(mean_squared_error(y_true, y_pred))\n",
        "    mae = mean_absolute_error(y_true, y_pred)\n",
        "    print(f\"\\n{model_name}:\")\n",
        "    print(f\"R² = {r2:.4f}\")\n",
        "    print(f\"RMSE = {rmse:.2f}\")\n",
        "    print(f\"MAE = {mae:.2f}\")"
      ],
      "metadata": {
        "id": "nVqEXWseXRwZ"
      },
      "execution_count": 24,
      "outputs": []
    },
    {
      "cell_type": "code",
      "source": [
        "print_metrics(y_test, y_pred_lr, \"Regressão Linear\")\n",
        "print_metrics(y_test, y_pred_dt, \"Árvore de Decisão\")\n",
        "print_metrics(y_test, y_pred_rf, \"Random Forest\")"
      ],
      "metadata": {
        "colab": {
          "base_uri": "https://localhost:8080/"
        },
        "id": "SP0fexmAX5HD",
        "outputId": "d1ab3d44-56cd-48af-f220-f92f2684e53c"
      },
      "execution_count": 25,
      "outputs": [
        {
          "output_type": "stream",
          "name": "stdout",
          "text": [
            "\n",
            "Regressão Linear:\n",
            "R² = 0.1693\n",
            "RMSE = 91.17\n",
            "MAE = 52.55\n",
            "\n",
            "Árvore de Decisão:\n",
            "R² = 0.1798\n",
            "RMSE = 90.60\n",
            "MAE = 38.87\n",
            "\n",
            "Random Forest:\n",
            "R² = 0.5322\n",
            "RMSE = 68.42\n",
            "MAE = 32.90\n"
          ]
        }
      ]
    },
    {
      "cell_type": "markdown",
      "metadata": {
        "id": "3fb61a99"
      },
      "source": [
        "Conclusão:\n",
        "\n",
        "- **Random Forest** tem o maior valor de R² (0.5322), indicando que explica uma proporção maior da variância no consumo de energia em comparação com a Regressão Linear (0.1693) e a Árvore de Decisão (0.1798).\n",
        "- **Random Forest** também tem os menores valores de RMSE (68.42) e MAE (32.90), o que significa que suas previsões estão, em média, mais próximas dos valores reais do que os outros dois modelos.\n",
        "\n",
        "Portanto, o modelo **Random Forest** é o melhor entre os três para explicar e prever o consumo de energia com base nesta análise."
      ]
    },
    {
      "cell_type": "markdown",
      "source": [
        "# **Smart Grid Stability**"
      ],
      "metadata": {
        "id": "o4hVdjvHYvx1"
      }
    },
    {
      "cell_type": "markdown",
      "metadata": {
        "id": "e696358d"
      },
      "source": [
        "**Reasoning**:\n",
        "The previous command failed because the pandas library was not imported in the current session. I need to re-import pandas before loading the data.\n",
        "\n"
      ]
    },
    {
      "cell_type": "code",
      "metadata": {
        "colab": {
          "base_uri": "https://localhost:8080/"
        },
        "id": "iuuYbEelgBQi",
        "outputId": "259cc688-bedd-4967-bb03-2ef49a0631ca"
      },
      "source": [
        "import pandas as pd\n",
        "\n",
        "df_stability = pd.read_csv('/content/smart_grid_stability_augmented.csv')\n",
        "\n",
        "print(df_stability.head())\n",
        "print(df_stability.info())\n",
        "print(df_stability.describe())"
      ],
      "execution_count": 26,
      "outputs": [
        {
          "output_type": "stream",
          "name": "stdout",
          "text": [
            "       tau1      tau2      tau3      tau4        p1        p2        p3  \\\n",
            "0  2.959060  3.079885  8.381025  9.780754  3.763085 -0.782604 -1.257395   \n",
            "1  9.304097  4.902524  3.047541  1.369357  5.067812 -1.940058 -1.872742   \n",
            "2  8.971707  8.848428  3.046479  1.214518  3.405158 -1.207456 -1.277210   \n",
            "3  0.716415  7.669600  4.486641  2.340563  3.963791 -1.027473 -1.938944   \n",
            "4  3.134112  7.608772  4.943759  9.857573  3.525811 -1.125531 -1.845975   \n",
            "\n",
            "         p4        g1        g2        g3        g4      stab     stabf  \n",
            "0 -1.723086  0.650456  0.859578  0.887445  0.958034  0.055347  unstable  \n",
            "1 -1.255012  0.413441  0.862414  0.562139  0.781760 -0.005957    stable  \n",
            "2 -0.920492  0.163041  0.766689  0.839444  0.109853  0.003471  unstable  \n",
            "3 -0.997374  0.446209  0.976744  0.929381  0.362718  0.028871  unstable  \n",
            "4 -0.554305  0.797110  0.455450  0.656947  0.820923  0.049860  unstable  \n",
            "<class 'pandas.core.frame.DataFrame'>\n",
            "RangeIndex: 60000 entries, 0 to 59999\n",
            "Data columns (total 14 columns):\n",
            " #   Column  Non-Null Count  Dtype  \n",
            "---  ------  --------------  -----  \n",
            " 0   tau1    60000 non-null  float64\n",
            " 1   tau2    60000 non-null  float64\n",
            " 2   tau3    60000 non-null  float64\n",
            " 3   tau4    60000 non-null  float64\n",
            " 4   p1      60000 non-null  float64\n",
            " 5   p2      60000 non-null  float64\n",
            " 6   p3      60000 non-null  float64\n",
            " 7   p4      60000 non-null  float64\n",
            " 8   g1      60000 non-null  float64\n",
            " 9   g2      60000 non-null  float64\n",
            " 10  g3      60000 non-null  float64\n",
            " 11  g4      60000 non-null  float64\n",
            " 12  stab    60000 non-null  float64\n",
            " 13  stabf   60000 non-null  object \n",
            "dtypes: float64(13), object(1)\n",
            "memory usage: 6.4+ MB\n",
            "None\n",
            "               tau1          tau2          tau3          tau4            p1  \\\n",
            "count  60000.000000  60000.000000  60000.000000  60000.000000  60000.000000   \n",
            "mean       5.250000      5.250001      5.250001      5.250001      3.750000   \n",
            "std        2.742434      2.742437      2.742437      2.742437      0.752129   \n",
            "min        0.500793      0.500141      0.500141      0.500141      1.582590   \n",
            "25%        2.874892      2.875011      2.875011      2.875011      3.218300   \n",
            "50%        5.250004      5.249981      5.249981      5.249981      3.751025   \n",
            "75%        7.624690      7.624896      7.624896      7.624896      4.282420   \n",
            "max        9.999469      9.999837      9.999837      9.999837      5.864418   \n",
            "\n",
            "                 p2            p3            p4            g1            g2  \\\n",
            "count  60000.000000  60000.000000  60000.000000  60000.000000  60000.000000   \n",
            "mean      -1.250000     -1.250000     -1.250000      0.525000      0.525000   \n",
            "std        0.433017      0.433017      0.433017      0.274244      0.274243   \n",
            "min       -1.999945     -1.999945     -1.999945      0.050009      0.050028   \n",
            "25%       -1.624997     -1.624997     -1.624997      0.287521      0.287497   \n",
            "50%       -1.249996     -1.249996     -1.249996      0.525009      0.525007   \n",
            "75%       -0.874993     -0.874993     -0.874993      0.762435      0.762490   \n",
            "max       -0.500025     -0.500025     -0.500025      0.999937      0.999982   \n",
            "\n",
            "                 g3            g4          stab  \n",
            "count  60000.000000  60000.000000  60000.000000  \n",
            "mean       0.525000      0.525000      0.015731  \n",
            "std        0.274243      0.274243      0.036917  \n",
            "min        0.050028      0.050028     -0.080760  \n",
            "25%        0.287497      0.287497     -0.015557  \n",
            "50%        0.525007      0.525007      0.017142  \n",
            "75%        0.762490      0.762490      0.044878  \n",
            "max        0.999982      0.999982      0.109403  \n"
          ]
        }
      ]
    },
    {
      "cell_type": "code",
      "metadata": {
        "id": "70ec72f6"
      },
      "source": [
        "X_stability = df_stability.drop(['stab', 'stabf'], axis=1)\n",
        "y_stability = df_stability['stabf']"
      ],
      "execution_count": 27,
      "outputs": []
    },
    {
      "cell_type": "code",
      "metadata": {
        "id": "09713c1f"
      },
      "source": [
        "from sklearn.model_selection import train_test_split\n",
        "\n",
        "X_train_stability, X_test_stability, y_train_stability, y_test_stability = train_test_split(\n",
        "    X_stability, y_stability, test_size=0.2, random_state=42\n",
        ")"
      ],
      "execution_count": 28,
      "outputs": []
    },
    {
      "cell_type": "code",
      "metadata": {
        "id": "c2ff5e37"
      },
      "source": [
        "from sklearn.ensemble import RandomForestClassifier\n",
        "\n",
        "rf_stability = RandomForestClassifier(random_state=42)\n",
        "rf_stability.fit(X_train_stability, y_train_stability)"
      ],
      "execution_count": null,
      "outputs": []
    },
    {
      "cell_type": "code",
      "metadata": {
        "id": "4caa0a69"
      },
      "source": [
        "from sklearn.metrics import accuracy_score, precision_score, recall_score, f1_score, confusion_matrix\n",
        "\n",
        "y_pred_stability = rf_stability.predict(X_test_stability)\n",
        "\n",
        "accuracy = accuracy_score(y_test_stability, y_pred_stability)\n",
        "precision = precision_score(y_test_stability, y_pred_stability, pos_label='stable')\n",
        "recall = recall_score(y_test_stability, y_pred_stability, pos_label='stable')\n",
        "f1 = f1_score(y_test_stability, y_pred_stability, pos_label='stable')\n",
        "conf_matrix = confusion_matrix(y_test_stability, y_pred_stability, labels=['stable', 'unstable'])\n",
        "\n",
        "print(f\"Accuracy: {accuracy:.4f}\")\n",
        "print(f\"Precision (Stable): {precision:.4f}\")\n",
        "print(f\"Recall (Stable): {recall:.4f}\")\n",
        "print(f\"F1-score (Stable): {f1:.4f}\")\n",
        "print(\"\\nConfusion Matrix:\")\n",
        "print(conf_matrix)"
      ],
      "execution_count": null,
      "outputs": []
    },
    {
      "cell_type": "code",
      "metadata": {
        "id": "616a9646"
      },
      "source": [
        "from sklearn.tree import DecisionTreeClassifier\n",
        "from sklearn.neighbors import KNeighborsClassifier\n",
        "from sklearn.linear_model import LogisticRegression\n",
        "from sklearn.metrics import accuracy_score, f1_score, confusion_matrix\n",
        "import numpy as np"
      ],
      "execution_count": null,
      "outputs": []
    },
    {
      "cell_type": "code",
      "metadata": {
        "id": "adcc5c87"
      },
      "source": [
        "# Decision Tree Classifier\n",
        "dt_stability = DecisionTreeClassifier(random_state=42)\n",
        "dt_stability.fit(X_train_stability, y_train_stability)\n",
        "y_pred_dt_stability = dt_stability.predict(X_test_stability)\n",
        "\n",
        "# KNN Classifier\n",
        "knn_stability = KNeighborsClassifier()\n",
        "knn_stability.fit(X_train_stability, y_train_stability)\n",
        "y_pred_knn_stability = knn_stability.predict(X_test_stability)\n",
        "\n",
        "# Logistic Regression\n",
        "lr_stability = LogisticRegression(random_state=42)\n",
        "lr_stability.fit(X_train_stability, y_train_stability)\n",
        "y_pred_lr_stability = lr_stability.predict(X_test_stability)"
      ],
      "execution_count": null,
      "outputs": []
    },
    {
      "cell_type": "code",
      "metadata": {
        "id": "74b8914f"
      },
      "source": [
        "def print_classification_metrics(y_true, y_pred, model_name):\n",
        "    accuracy = accuracy_score(y_true, y_pred)\n",
        "    f1 = f1_score(y_true, y_pred, pos_label='stable')\n",
        "    conf_matrix = confusion_matrix(y_true, y_pred, labels=['stable', 'unstable'])\n",
        "\n",
        "    print(f\"\\n{model_name}:\")\n",
        "    print(f\"Accuracy = {accuracy:.4f}\")\n",
        "    print(f\"F1-score (Stable) = {f1:.4f}\")\n",
        "    print(\"\\nConfusion Matrix:\")\n",
        "    print(conf_matrix)\n",
        "\n",
        "print_classification_metrics(y_test_stability, y_pred_dt_stability, \"Decision Tree Classifier\")\n",
        "print_classification_metrics(y_test_stability, y_pred_knn_stability, \"KNN Classifier\")\n",
        "print_classification_metrics(y_test_stability, y_pred_lr_stability, \"Logistic Regression\")"
      ],
      "execution_count": null,
      "outputs": []
    }
  ]
}